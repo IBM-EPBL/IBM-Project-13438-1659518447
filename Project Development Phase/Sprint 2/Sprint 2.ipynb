{
 "cells": [
  {
   "cell_type": "code",
   "execution_count": 21,
   "id": "73d4993e",
   "metadata": {},
   "outputs": [],
   "source": [
    "from keras.datasets import mnist\n",
    "import matplotlib.pyplot as plt  \n",
    "from keras.utils import np_utils\n",
    "from tensorflow.keras.models import Sequential\n",
    "from tensorflow.keras.layers import Conv2D,Dense,Flatten\n",
    "from tensorflow.keras.optimizers import Adam"
   ]
  },
  {
   "cell_type": "code",
   "execution_count": 22,
   "id": "56a2a0f1",
   "metadata": {},
   "outputs": [
    {
     "name": "stdout",
     "output_type": "stream",
     "text": [
      "(60000, 28, 28)\n",
      "(10000, 28, 28)\n",
      "(10000,)\n",
      "(60000,)\n"
     ]
    }
   ],
   "source": [
    "(X_train,y_train),(X_test,y_test) =mnist.load_data()\n",
    "print(X_train.shape)\n",
    "print(X_test.shape)\n",
    "print(y_test.shape)\n",
    "print(y_train.shape)"
   ]
  },
  {
   "cell_type": "code",
   "execution_count": 23,
   "id": "be4ff3aa",
   "metadata": {},
   "outputs": [
    {
     "name": "stdout",
     "output_type": "stream",
     "text": [
      "The label value is  0\n"
     ]
    },
    {
     "data": {
      "text/plain": [
       "<matplotlib.image.AxesImage at 0x17b93656730>"
      ]
     },
     "execution_count": 23,
     "metadata": {},
     "output_type": "execute_result"
    },
    {
     "data": {
      "image/png": "[encoded data removed]",
      "text/plain": [
       "<Figure size 432x288 with 1 Axes>"
      ]
     },
     "metadata": {
      "needs_background": "light"
     },
     "output_type": "display_data"
    }
   ],
   "source": [
    "print(\"The label value is \",y_test[10]) #Value in y_test \n",
    "plt.imshow(X_test[10])"
   ]
  },
  {
   "cell_type": "code",
   "execution_count": 24,
   "id": "0255c28e",
   "metadata": {},
   "outputs": [
    {
     "name": "stdout",
     "output_type": "stream",
     "text": [
      "The label value is  6\n"
     ]
    },
    {
     "data": {
      "text/plain": [
       "<matplotlib.image.AxesImage at 0x17b96b0ee80>"
      ]
     },
     "execution_count": 24,
     "metadata": {},
     "output_type": "execute_result"
    },
    {
     "data": {
      "image/png": "[encoded data removed]",
      "text/plain": [
       "<Figure size 432x288 with 1 Axes>"
      ]
     },
     "metadata": {
      "needs_background": "light"
     },
     "output_type": "display_data"
    }
   ],
   "source": [
    "print(\"The label value is \",y_test[100]) #Value in y_test \n",
    "plt.imshow(X_test[100])"
   ]
  },
  {
   "cell_type": "code",
   "execution_count": 25,
   "id": "c8051b0f",
   "metadata": {},
   "outputs": [
    {
     "name": "stdout",
     "output_type": "stream",
     "text": [
      "The label value is  4\n"
     ]
    },
    {
     "data": {
      "text/plain": [
       "<matplotlib.image.AxesImage at 0x17b96b694c0>"
      ]
     },
     "execution_count": 25,
     "metadata": {},
     "output_type": "execute_result"
    },
    {
     "data": {
      "image/png": "[encoded data removed]",
      "text/plain": [
       "<Figure size 432x288 with 1 Axes>"
      ]
     },
     "metadata": {
      "needs_background": "light"
     },
     "output_type": "display_data"
    }
   ],
   "source": [
    "print(\"The label value is \",y_test[65]) #Value in y_test \n",
    "plt.imshow(X_test[65])"
   ]
  },
  {
   "cell_type": "code",
   "execution_count": 26,
   "id": "a8432c31",
   "metadata": {},
   "outputs": [
    {
     "data": {
      "text/plain": [
       "(60000, 28, 28)"
      ]
     },
     "execution_count": 26,
     "metadata": {},
     "output_type": "execute_result"
    }
   ],
   "source": [
    "X_train.shape"
   ]
  },
  {
   "cell_type": "code",
   "execution_count": 27,
   "id": "2d0f5afd",
   "metadata": {},
   "outputs": [
    {
     "data": {
      "text/plain": [
       "(10000, 28, 28)"
      ]
     },
     "execution_count": 27,
     "metadata": {},
     "output_type": "execute_result"
    }
   ],
   "source": [
    "X_test.shape"
   ]
  },
  {
   "cell_type": "code",
   "execution_count": 28,
   "id": "32e8b531",
   "metadata": {},
   "outputs": [],
   "source": [
    "X_train1 = X_train.reshape(60000, 28, 28, 1).astype('float32')\n",
    "\n",
    "X_test1 = X_test.reshape(10000, 28, 28, 1).astype('float32')"
   ]
  },
  {
   "cell_type": "code",
   "execution_count": 29,
   "id": "66f52852",
   "metadata": {},
   "outputs": [],
   "source": [
    "number_of_classes= 10\n",
    "y_train1 = np_utils.to_categorical(y_train,number_of_classes)\n",
    "y_test1 = np_utils.to_categorical(y_test,number_of_classes)"
   ]
  },
  {
   "cell_type": "code",
   "execution_count": 30,
   "id": "2cbd5215",
   "metadata": {},
   "outputs": [
    {
     "name": "stdout",
     "output_type": "stream",
     "text": [
      "After encoding the value 0 become [1. 0. 0. 0. 0. 0. 0. 0. 0. 0.]\n"
     ]
    }
   ],
   "source": [
    "print(\"After encoding the value\",y_test[10] ,\"become\", y_test1[10])"
   ]
  },
  {
   "cell_type": "code",
   "execution_count": 31,
   "id": "9309613f",
   "metadata": {},
   "outputs": [
    {
     "name": "stdout",
     "output_type": "stream",
     "text": [
      "After encoding the value 6 become [0. 0. 0. 0. 0. 0. 1. 0. 0. 0.]\n"
     ]
    }
   ],
   "source": [
    "print(\"After encoding the value\",y_test[100] ,\"become\", y_test1[100])"
   ]
  },
  {
   "cell_type": "code",
   "execution_count": 32,
   "id": "9ca8b2ba",
   "metadata": {},
   "outputs": [
    {
     "name": "stdout",
     "output_type": "stream",
     "text": [
      "After encoding the value 4 become [0. 0. 0. 0. 1. 0. 0. 0. 0. 0.]\n"
     ]
    }
   ],
   "source": [
    "print(\"After encoding the value\",y_test[65] ,\"become\", y_test1[65])"
   ]
  },
  {
   "cell_type": "code",
   "execution_count": 13,
   "id": "d77aa49a",
   "metadata": {},
   "outputs": [],
   "source": [
    "model = Sequential()\n",
    "model.add(Conv2D(64, (3, 3), input_shape=(28, 28, 1), activation=\"relu\"))\n",
    "model.add(Conv2D(32, (3, 3), activation=\"relu\"))\n",
    "model.add(Flatten())\n",
    "model.add(Dense(number_of_classes, activation=\"softmax\"))"
   ]
  },
  {
   "cell_type": "code",
   "execution_count": 14,
   "id": "d30fdb3c",
   "metadata": {},
   "outputs": [],
   "source": [
    "model.compile(loss='categorical_crossentropy', optimizer=\"Adam\", metrics=[\"accuracy\"])"
   ]
  },
  {
   "cell_type": "code",
   "execution_count": 15,
   "id": "b8bc03a2",
   "metadata": {},
   "outputs": [
    {
     "name": "stdout",
     "output_type": "stream",
     "text": [
      "Epoch 1/10\n",
      "1875/1875 [==============================] - 73s 39ms/step - loss: 0.1908 - accuracy: 0.9520 - val_loss: 0.0722 - val_accuracy: 0.9776\n",
      "Epoch 2/10\n",
      "1875/1875 [==============================] - 77s 41ms/step - loss: 0.0639 - accuracy: 0.9806 - val_loss: 0.0792 - val_accuracy: 0.9775\n",
      "Epoch 3/10\n",
      "1875/1875 [==============================] - 81s 43ms/step - loss: 0.0456 - accuracy: 0.9857 - val_loss: 0.0811 - val_accuracy: 0.9789\n",
      "Epoch 4/10\n",
      "1875/1875 [==============================] - 88s 47ms/step - loss: 0.0334 - accuracy: 0.9891 - val_loss: 0.0864 - val_accuracy: 0.9783\n",
      "Epoch 5/10\n",
      "1875/1875 [==============================] - 83s 44ms/step - loss: 0.0266 - accuracy: 0.9919 - val_loss: 0.1096 - val_accuracy: 0.9766\n",
      "Epoch 6/10\n",
      "1875/1875 [==============================] - 84s 45ms/step - loss: 0.0220 - accuracy: 0.9933 - val_loss: 0.1166 - val_accuracy: 0.9781\n",
      "Epoch 7/10\n",
      "1875/1875 [==============================] - 87s 46ms/step - loss: 0.0200 - accuracy: 0.9942 - val_loss: 0.1276 - val_accuracy: 0.9783\n",
      "Epoch 8/10\n",
      "1875/1875 [==============================] - 80s 43ms/step - loss: 0.0179 - accuracy: 0.9949 - val_loss: 0.1552 - val_accuracy: 0.9774\n",
      "Epoch 9/10\n",
      "1875/1875 [==============================] - 81s 43ms/step - loss: 0.0165 - accuracy: 0.9957 - val_loss: 0.1946 - val_accuracy: 0.9748\n",
      "Epoch 10/10\n",
      "1875/1875 [==============================] - 83s 44ms/step - loss: 0.0194 - accuracy: 0.9954 - val_loss: 0.1765 - val_accuracy: 0.9795\n"
     ]
    },
    {
     "data": {
      "text/plain": [
       "<keras.callbacks.History at 0x1fb27e426a0>"
      ]
     },
     "execution_count": 15,
     "metadata": {},
     "output_type": "execute_result"
    }
   ],
   "source": [
    "model.fit(X_train1, y_train1, batch_size=32, epochs=10, validation_data=(X_test1,y_test1))"
   ]
  },
  {
   "cell_type": "code",
   "execution_count": 34,
   "id": "89f39ab5",
   "metadata": {},
   "outputs": [
    {
     "name": "stdout",
     "output_type": "stream",
     "text": [
      "Metrics (Test Loss & Test Accuracy): \n",
      "[0.17650121450424194, 0.9794999957084656]\n"
     ]
    }
   ],
   "source": [
    "metrics = model.evaluate(X_test1, y_test1, verbose=0)\n",
    "print(\"Metrics (Test Loss & Test Accuracy): \")\n",
    "print(metrics)"
   ]
  },
  {
   "cell_type": "code",
   "execution_count": 35,
   "id": "35769e62",
   "metadata": {},
   "outputs": [
    {
     "name": "stdout",
     "output_type": "stream",
     "text": [
      "[[1.5173043e-22 8.4258035e-36 3.3258008e-21 4.2932641e-21 5.6306000e-34\n",
      "  5.6176962e-30 5.3118001e-35 1.0000000e+00 1.8811709e-20 1.8820960e-21]\n",
      " [5.7324457e-17 2.1319228e-27 1.0000000e+00 5.4940412e-20 1.2439752e-36\n",
      "  2.8165258e-36 1.2113163e-15 0.0000000e+00 6.4437084e-18 5.2187769e-31]\n",
      " [1.4451886e-16 1.0000000e+00 5.9390881e-14 2.8238276e-23 2.2156307e-13\n",
      "  6.8053675e-18 6.2765272e-11 6.5911502e-13 2.2929852e-12 7.0158600e-23]\n",
      " [1.0000000e+00 2.5717390e-33 4.9722789e-22 1.3101355e-29 1.4516712e-29\n",
      "  5.5137968e-28 1.5292815e-13 4.9220298e-27 5.8773619e-20 8.2154105e-20]]\n"
     ]
    }
   ],
   "source": [
    "prediction = model.predict(X_test1[:4])\n",
    "print(prediction)"
   ]
  },
  {
   "cell_type": "code",
   "execution_count": 36,
   "id": "239f6980",
   "metadata": {},
   "outputs": [
    {
     "name": "stdout",
     "output_type": "stream",
     "text": [
      "[7 2 1 0]\n",
      "[[0. 0. 0. 0. 0. 0. 0. 1. 0. 0.]\n",
      " [0. 0. 1. 0. 0. 0. 0. 0. 0. 0.]\n",
      " [0. 1. 0. 0. 0. 0. 0. 0. 0. 0.]\n",
      " [1. 0. 0. 0. 0. 0. 0. 0. 0. 0.]]\n"
     ]
    }
   ],
   "source": [
    "import numpy as np\n",
    "print(np.argmax(prediction, axis=1))\n",
    "print(y_test1[:4])"
   ]
  },
  {
   "cell_type": "code",
   "execution_count": 33,
   "id": "c4df6b1e",
   "metadata": {},
   "outputs": [],
   "source": [
    "model.save(\"model.h5\")"
   ]
  },
  {
   "cell_type": "code",
   "execution_count": 33,
   "id": "031b2d87",
   "metadata": {},
   "outputs": [],
   "source": [
    "from tensorflow.keras.models import load_model\n",
    "model=load_model(\"model.h5\")"
   ]
  },
  {
   "cell_type": "code",
   "execution_count": 16,
   "id": "08a158b9",
   "metadata": {},
   "outputs": [
    {
     "name": "stdout",
     "output_type": "stream",
     "text": [
      "Model: \"sequential\"\n",
      "_________________________________________________________________\n",
      "Layer (type)                 Output Shape              Param #   \n",
      "=================================================================\n",
      "conv2d (Conv2D)              (None, 26, 26, 64)        640       \n",
      "_________________________________________________________________\n",
      "conv2d_1 (Conv2D)            (None, 24, 24, 32)        18464     \n",
      "_________________________________________________________________\n",
      "flatten (Flatten)            (None, 18432)             0         \n",
      "_________________________________________________________________\n",
      "dense (Dense)                (None, 10)                184330    \n",
      "=================================================================\n",
      "Total params: 203,434\n",
      "Trainable params: 203,434\n",
      "Non-trainable params: 0\n",
      "_________________________________________________________________\n"
     ]
    }
   ],
   "source": [
    "model.summary()"
   ]
  },
  {
   "cell_type": "code",
   "execution_count": 37,
   "id": "24231a37",
   "metadata": {},
   "outputs": [
    {
     "name": "stdout",
     "output_type": "stream",
     "text": [
      "Prediction (Softmax) from the neural network:\n",
      "\n",
      " [[1.0000000e+00 3.5041303e-34 3.1392596e-20 1.9669141e-34 0.0000000e+00\n",
      "  1.2160965e-34 2.6726674e-17 7.1123406e-35 3.0426787e-25 8.0960580e-30]]\n",
      "\n",
      "\n",
      "Hard-maxed form of the prediction: \n",
      "\n",
      " [[1. 0. 0. 0. 0. 0. 0. 0. 0. 0.]]\n",
      "\n",
      "\n",
      "--------- Prediction --------- \n",
      "\n",
      "\n"
     ]
    },
    {
     "data": {
      "image/png": "[encoded data removed]",
      "text/plain": [
       "<Figure size 432x288 with 1 Axes>"
      ]
     },
     "metadata": {
      "needs_background": "light"
     },
     "output_type": "display_data"
    },
    {
     "name": "stdout",
     "output_type": "stream",
     "text": [
      "\n",
      "\n",
      "Final Output: 0\n"
     ]
    }
   ],
   "source": [
    "example = X_train[1]\n",
    "prediction = model.predict(example.reshape(1, 28, 28, 1))\n",
    "## First output\n",
    "print (\"Prediction (Softmax) from the neural network:\\n\\n {}\".format(prediction))\n",
    "## Second output\n",
    "hard_maxed_prediction = np.zeros(prediction.shape)\n",
    "hard_maxed_prediction[0][np.argmax(prediction)] = 1\n",
    "print (\"\\n\\nHard-maxed form of the prediction: \\n\\n {}\".format(hard_maxed_prediction))\n",
    "## Third output\n",
    "print (\"\\n\\n--------- Prediction --------- \\n\\n\")\n",
    "plt.imshow(example.reshape(28, 28), cmap=\"gray\")\n",
    "plt.show()\n",
    "print(\"\\n\\nFinal Output: {}\".format(np.argmax(prediction)))"
   ]
  },
  {
   "cell_type": "code",
   "execution_count": null,
   "id": "7f5a7273",
   "metadata": {},
   "outputs": [],
   "source": []
  }
 ],
 "metadata": {
  "kernelspec": {
   "display_name": "Python 3",
   "language": "python",
   "name": "python3"
  },
  "language_info": {
   "codemirror_mode": {
    "name": "ipython",
    "version": 3
   },
   "file_extension": ".py",
   "mimetype": "text/x-python",
   "name": "python",
   "nbconvert_exporter": "python",
   "pygments_lexer": "ipython3",
   "version": "3.8.8"
  }
 },
 "nbformat": 4,
 "nbformat_minor": 5
}
